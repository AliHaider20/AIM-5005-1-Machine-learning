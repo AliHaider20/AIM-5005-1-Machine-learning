{
 "cells": [
  {
   "cell_type": "code",
   "execution_count": 1,
   "id": "3890fe1a",
   "metadata": {},
   "outputs": [],
   "source": [
    "from scipy.io import loadmat as sloadmat\n",
    "from numpy import linalg as LA\n",
    "from tqdm import tqdm\n",
    "from time import time\n",
    "import pandas as pd\n",
    "import numpy as np"
   ]
  },
  {
   "cell_type": "markdown",
   "id": "be843341",
   "metadata": {},
   "source": [
    "# 1. Implement k-NN method (50 Points)"
   ]
  },
  {
   "cell_type": "code",
   "execution_count": 2,
   "id": "e63eeafa",
   "metadata": {},
   "outputs": [],
   "source": [
    "class KNN:\n",
    "    def __init__(self, k):\n",
    "        self.k = k\n",
    "    \n",
    "    def fit(self, X, y):\n",
    "        self.data = X\n",
    "        self.lbls = y\n",
    "            \n",
    "    def predict(self, y_test, dist_metric):\n",
    "        preds = []\n",
    "        if dist_metric == \"manhattan\":\n",
    "            for testpoint in tqdm(y_test):\n",
    "                distances = [ np.sum(abs(x-testpoint)) for x in self.data]\n",
    "                preds.append(np.max(self.lbls[np.argsort(distances)][:self.k]))\n",
    "        elif dist_metric == \"cosine\":\n",
    "            for testpoint in tqdm(y_test):\n",
    "                distances = [ 1-(x*testpoint)/(LA.norm(x)*LA.norm(x)) for x in self.data]\n",
    "                preds.append(np.max(self.lbls[np.argsort(distances)][:self.k]))\n",
    "        elif dist_metric == 'minkowski':\n",
    "            for testpoint in tqdm(y_test):\n",
    "                distances = [ np.sum((testpoint - x)**2) for x in self.data]\n",
    "                preds.append(np.max(self.lbls[np.argsort(distances)][:self.k]))\n",
    "        elif dist_metric == \"euclidean\":\n",
    "            for testpoint in tqdm(y_test):\n",
    "                distances = [ np.sum(np.sqrt((testpoint - x)**2)) for x in self.data]\n",
    "                preds.append(np.max(self.lbls[np.argsort(distances)][:self.k]))\n",
    "        elif dist_metric == \"chebyshev\":\n",
    "            for testpoint in tqdm(y_test):\n",
    "                distances = [ np.max(x-testpoint) for x in self.data]\n",
    "                preds.append(np.max(self.lbls[np.argsort(distances)][:self.k]))\n",
    "            \n",
    "\n",
    "        return  preds"
   ]
  },
  {
   "cell_type": "markdown",
   "id": "b7d01640",
   "metadata": {},
   "source": [
    "- Add all the combinations of distance metrics. \n",
    "- Apply for all the combinations of k. \n",
    "- Reduce the dimensions using different techniques."
   ]
  },
  {
   "cell_type": "markdown",
   "id": "29915904",
   "metadata": {},
   "source": [
    "# 2. Load train and test mat files, perform k-NN and report acuracy on the test dataset (30 Points)"
   ]
  },
  {
   "cell_type": "code",
   "execution_count": 3,
   "id": "7d2eb42c",
   "metadata": {},
   "outputs": [
    {
     "name": "stdout",
     "output_type": "stream",
     "text": [
      "Train data\n",
      "(1123, 1000) (1123, 1)\n",
      "5 train datapoints: [[-0.19087052 -0.81624687 -0.16324869 ... -0.17326276 -0.33678705\n",
      "   1.453196  ]\n",
      " [-1.0689135  -0.66361743 -0.5476942  ...  0.23691764 -0.7915029\n",
      "   1.6607733 ]\n",
      " [ 0.21004608 -0.54553837 -0.23526147 ...  0.22105977  0.3269091\n",
      "  -0.5789186 ]\n",
      " [-0.3347178  -0.52735007  0.08525061 ...  0.24418375  0.4792558\n",
      "  -0.7996379 ]\n",
      " [ 0.44703373 -0.24532022  0.16423625 ...  0.23674938 -0.02424169\n",
      "  -1.0602354 ]]\n",
      "5 train labels: [[ 1]\n",
      " [ 1]\n",
      " [ 1]\n",
      " ...\n",
      " [10]\n",
      " [10]\n",
      " [10]]\n"
     ]
    }
   ],
   "source": [
    "X_train, y_train = sloadmat('train.mat')['features'], sloadmat('train.mat')['labels']\n",
    "X_test, y_test = sloadmat('test.mat')['features'], sloadmat('test.mat')['labels']\n",
    "\n",
    "print(\"Train data\")\n",
    "print(X_train.shape, y_train.shape)\n",
    "print(\"5 train datapoints:\", X_train[:5])\n",
    "print(\"5 train labels:\", y_train)"
   ]
  },
  {
   "cell_type": "code",
   "execution_count": 4,
   "id": "4da9c05c",
   "metadata": {},
   "outputs": [
    {
     "name": "stdout",
     "output_type": "stream",
     "text": [
      "Test data\n",
      "(958, 1000) (958, 1)\n",
      "5 test datapoints: [[-0.1810047  -0.3263064   0.09900231 ...  0.0896374   0.30170187\n",
      "  -0.315777  ]\n",
      " [-0.08604874 -0.24425426  0.03491393 ...  0.15105137  0.14930305\n",
      "  -0.50344443]\n",
      " [-0.02536274 -0.22994491  0.0929625  ...  0.21274611  0.08147568\n",
      "  -0.5320467 ]\n",
      " [-0.4775491  -0.35678953  0.28851986 ... -0.18793373  0.49184024\n",
      "  -0.32741845]\n",
      " [-0.22974673 -0.176327    0.07313281 ...  0.01462969  0.28931898\n",
      "  -0.59351134]]\n",
      "5 test labels: [[1]\n",
      " [1]\n",
      " [1]\n",
      " [1]\n",
      " [1]]\n"
     ]
    }
   ],
   "source": [
    "print(\"Test data\")\n",
    "print(X_test.shape, y_test.shape)\n",
    "print(\"5 test datapoints:\", X_test[:5])\n",
    "print(\"5 test labels:\", y_test[:5])"
   ]
  },
  {
   "cell_type": "code",
   "execution_count": 5,
   "id": "b7c52d39",
   "metadata": {},
   "outputs": [],
   "source": [
    "model = KNN(k=10)\n",
    "model.fit(X_train, y_train)"
   ]
  },
  {
   "cell_type": "code",
   "execution_count": 6,
   "id": "7cd3d963",
   "metadata": {},
   "outputs": [
    {
     "name": "stderr",
     "output_type": "stream",
     "text": [
      "100%|████████████████████████████████████████████████████████████████████████████████| 958/958 [00:51<00:00, 18.46it/s]\n"
     ]
    },
    {
     "name": "stdout",
     "output_type": "stream",
     "text": [
      "Test accuracy with chebyshev is 96.67640918580376 with time complexity 51.91572833061218\n"
     ]
    },
    {
     "name": "stderr",
     "output_type": "stream",
     "text": [
      "100%|████████████████████████████████████████████████████████████████████████████████| 958/958 [00:59<00:00, 16.06it/s]\n"
     ]
    },
    {
     "name": "stdout",
     "output_type": "stream",
     "text": [
      "Test accuracy with euclidean is 96.41127348643006 with time complexity 59.66495370864868\n"
     ]
    },
    {
     "name": "stderr",
     "output_type": "stream",
     "text": [
      "100%|████████████████████████████████████████████████████████████████████████████████| 958/958 [01:06<00:00, 14.40it/s]\n"
     ]
    },
    {
     "name": "stdout",
     "output_type": "stream",
     "text": [
      "Test accuracy with minkowski is 96.35386221294364 with time complexity 66.54495143890381\n"
     ]
    },
    {
     "name": "stderr",
     "output_type": "stream",
     "text": [
      "100%|████████████████████████████████████████████████████████████████████████████████| 958/958 [03:28<00:00,  4.59it/s]\n"
     ]
    },
    {
     "name": "stdout",
     "output_type": "stream",
     "text": [
      "Test accuracy with cosine is 94.0 with time complexity 208.56397104263306\n"
     ]
    },
    {
     "name": "stderr",
     "output_type": "stream",
     "text": [
      "100%|████████████████████████████████████████████████████████████████████████████████| 958/958 [00:59<00:00, 16.10it/s]"
     ]
    },
    {
     "name": "stdout",
     "output_type": "stream",
     "text": [
      "Test accuracy with manhattan is 96.41127348643006 with time complexity 59.50673174858093\n"
     ]
    },
    {
     "name": "stderr",
     "output_type": "stream",
     "text": [
      "\n"
     ]
    }
   ],
   "source": [
    "methods = ['chebyshev', \"euclidean\", \"minkowski\", \"cosine\", \"manhattan\"]\n",
    "for meth in methods:\n",
    "    start = time()\n",
    "    y_preds = model.predict(X_test, meth)\n",
    "    print(f\"Test accuracy with {meth} is {(y_preds == y_test).sum()/len(y_test) } with time complexity {time()- start}\")"
   ]
  },
  {
   "cell_type": "markdown",
   "id": "9c3e6aa8",
   "metadata": {},
   "source": [
    "\n",
    "# 3. Reduce the dimensionality of features using PCA to low dimensions (e.g., 10, 3 ) and report the accuracy of the test datasets (20 Points)"
   ]
  },
  {
   "cell_type": "code",
   "execution_count": 7,
   "id": "87e16077",
   "metadata": {},
   "outputs": [
    {
     "name": "stderr",
     "output_type": "stream",
     "text": [
      "100%|████████████████████████████████████████████████████████████████████████████████| 958/958 [00:09<00:00, 99.82it/s]\n"
     ]
    },
    {
     "name": "stdout",
     "output_type": "stream",
     "text": [
      "Test accuracy with chebyshev is 96.88413361169103 with time complexity 9.60222578048706\n"
     ]
    },
    {
     "name": "stderr",
     "output_type": "stream",
     "text": [
      "100%|████████████████████████████████████████████████████████████████████████████████| 958/958 [00:10<00:00, 94.10it/s]\n"
     ]
    },
    {
     "name": "stdout",
     "output_type": "stream",
     "text": [
      "Test accuracy with euclidean is 96.20772442588726 with time complexity 10.189552307128906\n"
     ]
    },
    {
     "name": "stderr",
     "output_type": "stream",
     "text": [
      "100%|████████████████████████████████████████████████████████████████████████████████| 958/958 [00:11<00:00, 82.25it/s]\n"
     ]
    },
    {
     "name": "stdout",
     "output_type": "stream",
     "text": [
      "Test accuracy with minkowski is 96.26826722338204 with time complexity 11.655941009521484\n"
     ]
    },
    {
     "name": "stderr",
     "output_type": "stream",
     "text": [
      "100%|████████████████████████████████████████████████████████████████████████████████| 958/958 [00:22<00:00, 42.05it/s]\n"
     ]
    },
    {
     "name": "stdout",
     "output_type": "stream",
     "text": [
      "Test accuracy with cosine is 92.0 with time complexity 22.841721296310425\n"
     ]
    },
    {
     "name": "stderr",
     "output_type": "stream",
     "text": [
      "100%|████████████████████████████████████████████████████████████████████████████████| 958/958 [00:10<00:00, 92.12it/s]"
     ]
    },
    {
     "name": "stdout",
     "output_type": "stream",
     "text": [
      "Test accuracy with manhattan is 96.20772442588726 with time complexity 10.41386103630066\n"
     ]
    },
    {
     "name": "stderr",
     "output_type": "stream",
     "text": [
      "\n"
     ]
    }
   ],
   "source": [
    "from sklearn.decomposition import PCA\n",
    "\n",
    "n_components = 10\n",
    "pca = PCA(n_components=n_components)\n",
    "train_reduced = pca.fit_transform(X_train)\n",
    "test_reduced = pca.transform(X_test)\n",
    "model = KNN(k=10)\n",
    "model.fit(train_reduced, y_train)\n",
    "\n",
    "\n",
    "methods = ['chebyshev', \"euclidean\", \"minkowski\", \"cosine\", \"manhattan\"]\n",
    "for meth in methods:\n",
    "    start = time()\n",
    "    y_preds = model.predict(test_reduced, meth)\n",
    "    print(f\"Test accuracy with {meth} is {(y_preds == y_test).sum()/len(y_test) } with time complexity {time()- start}\")"
   ]
  },
  {
   "cell_type": "code",
   "execution_count": 8,
   "id": "f7f5a026",
   "metadata": {},
   "outputs": [
    {
     "name": "stderr",
     "output_type": "stream",
     "text": [
      "100%|████████████████████████████████████████████████████████████████████████████████| 958/958 [00:12<00:00, 76.93it/s]\n"
     ]
    },
    {
     "name": "stdout",
     "output_type": "stream",
     "text": [
      "Test accuracy with chebyshev is 96.58141962421712 with time complexity 12.466671228408813\n"
     ]
    },
    {
     "name": "stderr",
     "output_type": "stream",
     "text": [
      "100%|████████████████████████████████████████████████████████████████████████████████| 958/958 [00:14<00:00, 65.22it/s]\n"
     ]
    },
    {
     "name": "stdout",
     "output_type": "stream",
     "text": [
      "Test accuracy with euclidean is 96.38204592901879 with time complexity 14.695978164672852\n"
     ]
    },
    {
     "name": "stderr",
     "output_type": "stream",
     "text": [
      "100%|████████████████████████████████████████████████████████████████████████████████| 958/958 [00:12<00:00, 75.15it/s]\n"
     ]
    },
    {
     "name": "stdout",
     "output_type": "stream",
     "text": [
      "Test accuracy with minkowski is 96.36534446764092 with time complexity 12.756106615066528\n"
     ]
    },
    {
     "name": "stderr",
     "output_type": "stream",
     "text": [
      "100%|████████████████████████████████████████████████████████████████████████████████| 958/958 [00:26<00:00, 35.57it/s]\n"
     ]
    },
    {
     "name": "stdout",
     "output_type": "stream",
     "text": [
      "Test accuracy with cosine is 92.0 with time complexity 26.943304777145386\n"
     ]
    },
    {
     "name": "stderr",
     "output_type": "stream",
     "text": [
      "100%|████████████████████████████████████████████████████████████████████████████████| 958/958 [00:09<00:00, 97.39it/s]"
     ]
    },
    {
     "name": "stdout",
     "output_type": "stream",
     "text": [
      "Test accuracy with manhattan is 96.38204592901879 with time complexity 9.860225677490234\n"
     ]
    },
    {
     "name": "stderr",
     "output_type": "stream",
     "text": [
      "\n"
     ]
    }
   ],
   "source": [
    "n_components = 5\n",
    "pca = PCA(n_components=n_components)\n",
    "train_reduced = pca.fit_transform(X_train)\n",
    "test_reduced = pca.transform(X_test)\n",
    "model = KNN(k=10)\n",
    "model.fit(train_reduced, y_train)\n",
    "\n",
    "methods = ['chebyshev', \"euclidean\", \"minkowski\", \"cosine\", \"manhattan\"]\n",
    "for meth in methods:\n",
    "    start = time()\n",
    "    y_preds = model.predict(test_reduced, meth)\n",
    "    print(f\"Test accuracy with {meth} is {(y_preds == y_test).sum()/len(y_test) } with time complexity {time()- start}\")"
   ]
  },
  {
   "cell_type": "code",
   "execution_count": 9,
   "id": "98569b53",
   "metadata": {},
   "outputs": [
    {
     "name": "stderr",
     "output_type": "stream",
     "text": [
      "100%|███████████████████████████████████████████████████████████████████████████████| 958/958 [00:09<00:00, 104.60it/s]\n"
     ]
    },
    {
     "name": "stdout",
     "output_type": "stream",
     "text": [
      "Test accuracy with chebyshev is 97.57724425887265 with time complexity 9.162171363830566\n"
     ]
    },
    {
     "name": "stderr",
     "output_type": "stream",
     "text": [
      "100%|████████████████████████████████████████████████████████████████████████████████| 958/958 [00:13<00:00, 69.01it/s]\n"
     ]
    },
    {
     "name": "stdout",
     "output_type": "stream",
     "text": [
      "Test accuracy with euclidean is 96.43319415448852 with time complexity 13.888290166854858\n"
     ]
    },
    {
     "name": "stderr",
     "output_type": "stream",
     "text": [
      "100%|███████████████████████████████████████████████████████████████████████████████| 958/958 [00:08<00:00, 110.16it/s]\n"
     ]
    },
    {
     "name": "stdout",
     "output_type": "stream",
     "text": [
      "Test accuracy with minkowski is 96.45511482254697 with time complexity 8.714414119720459\n"
     ]
    },
    {
     "name": "stderr",
     "output_type": "stream",
     "text": [
      "100%|████████████████████████████████████████████████████████████████████████████████| 958/958 [00:23<00:00, 40.47it/s]\n"
     ]
    },
    {
     "name": "stdout",
     "output_type": "stream",
     "text": [
      "Test accuracy with cosine is 92.0 with time complexity 23.679378986358643\n"
     ]
    },
    {
     "name": "stderr",
     "output_type": "stream",
     "text": [
      "100%|████████████████████████████████████████████████████████████████████████████████| 958/958 [00:14<00:00, 67.57it/s]"
     ]
    },
    {
     "name": "stdout",
     "output_type": "stream",
     "text": [
      "Test accuracy with manhattan is 96.43319415448852 with time complexity 14.184147357940674\n"
     ]
    },
    {
     "name": "stderr",
     "output_type": "stream",
     "text": [
      "\n"
     ]
    }
   ],
   "source": [
    "n_components = 3\n",
    "pca = PCA(n_components=n_components)\n",
    "train_reduced = pca.fit_transform(X_train)\n",
    "test_reduced = pca.transform(X_test)\n",
    "model = KNN(k=10)\n",
    "model.fit(train_reduced, y_train)\n",
    "\n",
    "methods = ['chebyshev', \"euclidean\", \"minkowski\", \"cosine\", \"manhattan\"]\n",
    "for meth in methods:\n",
    "    start = time()\n",
    "    y_preds = model.predict(test_reduced, meth)\n",
    "    print(f\"Test accuracy with {meth} is {(y_preds == y_test).sum()/len(y_test) } with time complexity {time()- start}\")"
   ]
  },
  {
   "cell_type": "code",
   "execution_count": 10,
   "id": "ea233311",
   "metadata": {},
   "outputs": [
    {
     "name": "stderr",
     "output_type": "stream",
     "text": [
      "100%|████████████████████████████████████████████████████████████████████████████████| 958/958 [00:10<00:00, 91.83it/s]\n"
     ]
    },
    {
     "name": "stdout",
     "output_type": "stream",
     "text": [
      "Test accuracy with chebyshev is 99.0 with time complexity 10.447240591049194\n"
     ]
    },
    {
     "name": "stderr",
     "output_type": "stream",
     "text": [
      "100%|████████████████████████████████████████████████████████████████████████████████| 958/958 [00:14<00:00, 68.22it/s]\n"
     ]
    },
    {
     "name": "stdout",
     "output_type": "stream",
     "text": [
      "Test accuracy with euclidean is 97.08350730688936 with time complexity 14.053858518600464\n"
     ]
    },
    {
     "name": "stderr",
     "output_type": "stream",
     "text": [
      "100%|████████████████████████████████████████████████████████████████████████████████| 958/958 [00:11<00:00, 83.65it/s]\n"
     ]
    },
    {
     "name": "stdout",
     "output_type": "stream",
     "text": [
      "Test accuracy with minkowski is 97.18162839248434 with time complexity 11.459871768951416\n"
     ]
    },
    {
     "name": "stderr",
     "output_type": "stream",
     "text": [
      "100%|████████████████████████████████████████████████████████████████████████████████| 958/958 [00:25<00:00, 37.73it/s]\n"
     ]
    },
    {
     "name": "stdout",
     "output_type": "stream",
     "text": [
      "Test accuracy with cosine is 92.0 with time complexity 25.39868950843811\n"
     ]
    },
    {
     "name": "stderr",
     "output_type": "stream",
     "text": [
      "100%|████████████████████████████████████████████████████████████████████████████████| 958/958 [00:10<00:00, 89.14it/s]"
     ]
    },
    {
     "name": "stdout",
     "output_type": "stream",
     "text": [
      "Test accuracy with manhattan is 97.08350730688936 with time complexity 10.752355813980103\n"
     ]
    },
    {
     "name": "stderr",
     "output_type": "stream",
     "text": [
      "\n"
     ]
    }
   ],
   "source": [
    "n_components = 2\n",
    "pca = PCA(n_components=n_components)\n",
    "train_reduced = pca.fit_transform(X_train)\n",
    "test_reduced = pca.transform(X_test)\n",
    "\n",
    "model = KNN(k=10)\n",
    "model.fit(train_reduced, y_train)\n",
    "\n",
    "methods = ['chebyshev', \"euclidean\", \"minkowski\", \"cosine\", \"manhattan\"]\n",
    "for meth in methods:\n",
    "    start = time()\n",
    "    y_preds = model.predict(test_reduced, meth)\n",
    "    print(f\"Test accuracy with {meth} is {(y_preds == y_test).sum()/len(y_test) } with time complexity {time()- start}\")"
   ]
  },
  {
   "cell_type": "code",
   "execution_count": 11,
   "id": "a57dbdc0",
   "metadata": {},
   "outputs": [
    {
     "name": "stderr",
     "output_type": "stream",
     "text": [
      "100%|███████████████████████████████████████████████████████████████████████████████| 958/958 [00:08<00:00, 119.22it/s]\n"
     ]
    },
    {
     "name": "stdout",
     "output_type": "stream",
     "text": [
      "Test accuracy with chebyshev is 99.0 with time complexity 8.03973937034607\n"
     ]
    },
    {
     "name": "stderr",
     "output_type": "stream",
     "text": [
      "100%|████████████████████████████████████████████████████████████████████████████████| 958/958 [00:16<00:00, 57.42it/s]\n"
     ]
    },
    {
     "name": "stdout",
     "output_type": "stream",
     "text": [
      "Test accuracy with euclidean is 97.04592901878914 with time complexity 16.688974857330322\n"
     ]
    },
    {
     "name": "stderr",
     "output_type": "stream",
     "text": [
      "100%|████████████████████████████████████████████████████████████████████████████████| 958/958 [00:15<00:00, 63.15it/s]\n"
     ]
    },
    {
     "name": "stdout",
     "output_type": "stream",
     "text": [
      "Test accuracy with minkowski is 97.04592901878914 with time complexity 15.181360006332397\n"
     ]
    },
    {
     "name": "stderr",
     "output_type": "stream",
     "text": [
      "100%|████████████████████████████████████████████████████████████████████████████████| 958/958 [00:25<00:00, 38.11it/s]\n"
     ]
    },
    {
     "name": "stdout",
     "output_type": "stream",
     "text": [
      "Test accuracy with cosine is 92.0 with time complexity 25.14989137649536\n"
     ]
    },
    {
     "name": "stderr",
     "output_type": "stream",
     "text": [
      "100%|████████████████████████████████████████████████████████████████████████████████| 958/958 [00:12<00:00, 79.52it/s]"
     ]
    },
    {
     "name": "stdout",
     "output_type": "stream",
     "text": [
      "Test accuracy with manhattan is 97.04592901878914 with time complexity 12.059455871582031\n"
     ]
    },
    {
     "name": "stderr",
     "output_type": "stream",
     "text": [
      "\n"
     ]
    }
   ],
   "source": [
    "n_components = 1\n",
    "pca = PCA(n_components=n_components)\n",
    "train_reduced = pca.fit_transform(X_train)\n",
    "test_reduced = pca.transform(X_test)\n",
    "\n",
    "model = KNN(k=10)\n",
    "model.fit(train_reduced, y_train)\n",
    "\n",
    "methods = ['chebyshev', \"euclidean\", \"minkowski\", \"cosine\", \"manhattan\"]\n",
    "for meth in methods:\n",
    "    start = time()\n",
    "    y_preds = model.predict(test_reduced, meth)\n",
    "    print(f\"Test accuracy with {meth} is {(y_preds == y_test).sum()/len(y_test) } with time complexity {time()- start}\")"
   ]
  }
 ],
 "metadata": {
  "kernelspec": {
   "display_name": "Python 3 (ipykernel)",
   "language": "python",
   "name": "python3"
  },
  "language_info": {
   "codemirror_mode": {
    "name": "ipython",
    "version": 3
   },
   "file_extension": ".py",
   "mimetype": "text/x-python",
   "name": "python",
   "nbconvert_exporter": "python",
   "pygments_lexer": "ipython3",
   "version": "3.9.10"
  }
 },
 "nbformat": 4,
 "nbformat_minor": 5
}
